{
 "cells": [
  {
   "cell_type": "code",
   "execution_count": 1,
   "metadata": {
    "tags": []
   },
   "outputs": [],
   "source": [
    "%load_ext autoreload\n",
    "%autoreload 2"
   ]
  },
  {
   "cell_type": "code",
   "execution_count": 2,
   "metadata": {
    "tags": []
   },
   "outputs": [
    {
     "name": "stderr",
     "output_type": "stream",
     "text": [
      "/exports/humgen/cnovellarausell/conda_envs/spVIPES_testing/lib/python3.9/site-packages/tqdm/auto.py:21: TqdmWarning: IProgress not found. Please update jupyter and ipywidgets. See https://ipywidgets.readthedocs.io/en/stable/user_install.html\n",
      "  from .autonotebook import tqdm as notebook_tqdm\n",
      "[rank: 0] Global seed set to 0\n"
     ]
    }
   ],
   "source": [
    "import numpy as np\n",
    "import seaborn as sns\n",
    "import scanpy as sc\n",
    "import matplotlib.pyplot as plt\n",
    "import spVIPES"
   ]
  },
  {
   "cell_type": "markdown",
   "metadata": {},
   "source": [
    "## Preprocessing"
   ]
  },
  {
   "cell_type": "code",
   "execution_count": 3,
   "metadata": {
    "tags": []
   },
   "outputs": [
    {
     "name": "stderr",
     "output_type": "stream",
     "text": [
      "/exports/humgen/cnovellarausell/conda_envs/spVIPES_testing/lib/python3.9/site-packages/anndata/_core/anndata.py:1900: UserWarning: Variable names are not unique. To make them unique, call `.var_names_make_unique`.\n",
      "  utils.warn_names_duplicates(\"var\")\n"
     ]
    }
   ],
   "source": [
    "simulated_data = sc.read_h5ad(\"splatter_simulation.h5ad\")\n",
    "simulated_data.var_names_make_unique()"
   ]
  },
  {
   "cell_type": "markdown",
   "metadata": {},
   "source": [
    "To apply spVIPES we first need:\n",
    "\n",
    "- Two datasets to learn shared / private latents from\n",
    "- Annotations to use for supervision"
   ]
  },
  {
   "cell_type": "code",
   "execution_count": 4,
   "metadata": {
    "tags": []
   },
   "outputs": [],
   "source": [
    "# In this case we define the two datasets based on the subgroup category\n",
    "simulated_data.obs['Dataset'] = simulated_data.obs.Subgroup.replace(\n",
    "    {'Group1': 'Dataset 1', 'Group2': 'Dataset 1', \n",
    "     'Group3': 'Dataset 2', 'Group4': 'Dataset 2'})"
   ]
  },
  {
   "cell_type": "code",
   "execution_count": 5,
   "metadata": {
    "tags": []
   },
   "outputs": [],
   "source": [
    "simulated_data.obs['Celltypes'] = simulated_data.obs.Group.replace(\n",
    "    {'Group1': 'Cell type 1', 'Group2': 'Cell type 2', \n",
    "     'Group3': 'Cell type 3', 'Group4': 'Cell type 4', \n",
    "     'Group5': 'Cell type 5'})"
   ]
  },
  {
   "cell_type": "markdown",
   "metadata": {},
   "source": [
    "To illustrate spVIPES' ability to learn private variation (i.e., variation that is not shared between groups), we use the 'Subgroup' category generated with Splatter as a ground truth. "
   ]
  },
  {
   "cell_type": "code",
   "execution_count": 6,
   "metadata": {
    "tags": []
   },
   "outputs": [],
   "source": [
    "simulated_data.obs['Gene_programs'] = simulated_data.obs.Subgroup.replace(\n",
    "    {'Group1': 'Gene program 1a', 'Group2': 'Gene program 2a', \n",
    "     'Group3': 'Gene program 1b', 'Group4': 'Gene program 2b'})"
   ]
  },
  {
   "cell_type": "code",
   "execution_count": 7,
   "metadata": {
    "tags": []
   },
   "outputs": [],
   "source": [
    "dataset1 = simulated_data[simulated_data.obs.Dataset == 'Dataset 1'].copy()\n",
    "dataset2 = simulated_data[simulated_data.obs.Dataset == 'Dataset 2'].copy()"
   ]
  },
  {
   "cell_type": "markdown",
   "metadata": {},
   "source": [
    "## spVIPES preprocessing and model setup"
   ]
  },
  {
   "cell_type": "markdown",
   "metadata": {},
   "source": [
    "We first need the two datasets in a single AnnData object to use as input for spVIPES"
   ]
  },
  {
   "cell_type": "code",
   "execution_count": 8,
   "metadata": {
    "tags": []
   },
   "outputs": [],
   "source": [
    "adata = spVIPES.data.prepare_adatas({\"dataset_1\": dataset1, \"dataset_2\": dataset2})"
   ]
  },
  {
   "cell_type": "markdown",
   "metadata": {},
   "source": [
    "Take into account that the keys you use in the dictonary will be appended to the feature names. This is needed for spVIPES' to work properly."
   ]
  },
  {
   "cell_type": "markdown",
   "metadata": {},
   "source": [
    "An spVIPES model instance requires the previously generated adata together with the group and label keys."
   ]
  },
  {
   "cell_type": "code",
   "execution_count": 9,
   "metadata": {
    "tags": []
   },
   "outputs": [
    {
     "name": "stderr",
     "output_type": "stream",
     "text": [
      "/exports/humgen/cnovellarausell/conda_envs/spVIPES_testing/lib/python3.9/abc.py:119: FutureWarning: SparseDataset is deprecated and will be removed in late 2024. It has been replaced by the public classes CSRDataset and CSCDataset.\n",
      "\n",
      "For instance checks, use `isinstance(X, (anndata.experimental.CSRDataset, anndata.experimental.CSCDataset))` instead.\n",
      "\n",
      "For creation, use `anndata.experimental.sparse_dataset(X)` instead.\n",
      "\n",
      "  return _abc_instancecheck(cls, instance)\n",
      "An NVIDIA GPU may be present on this machine, but a CUDA-enabled jaxlib is not installed. Falling back to cpu.\n"
     ]
    }
   ],
   "source": [
    "spVIPES.model.spVIPES.setup_anndata(adata, groups_key='groups', labels_key=\"Celltypes\")"
   ]
  },
  {
   "cell_type": "code",
   "execution_count": 10,
   "metadata": {
    "tags": []
   },
   "outputs": [
    {
     "name": "stdout",
     "output_type": "stream",
     "text": [
      "\u001b[34mINFO    \u001b[0m spVIPES: The model has been initialized                                                                   \n"
     ]
    }
   ],
   "source": [
    "spvipes = spVIPES.model.spVIPES(adata, n_dimensions_private=7, n_dimensions_shared=10)"
   ]
  },
  {
   "cell_type": "markdown",
   "metadata": {},
   "source": [
    "## spVIPES training"
   ]
  },
  {
   "cell_type": "markdown",
   "metadata": {},
   "source": [
    "In order to train the model we need to specify the group cell indices"
   ]
  },
  {
   "cell_type": "code",
   "execution_count": 11,
   "metadata": {
    "tags": []
   },
   "outputs": [],
   "source": [
    "group_indices_list = [np.where(adata.obs['groups'] == group)[0] for group in adata.obs['groups'].unique()]"
   ]
  },
  {
   "cell_type": "code",
   "execution_count": 14,
   "metadata": {
    "tags": []
   },
   "outputs": [
    {
     "name": "stderr",
     "output_type": "stream",
     "text": [
      "GPU available: True (cuda), used: True\n",
      "TPU available: False, using: 0 TPU cores\n",
      "IPU available: False, using: 0 IPUs\n",
      "HPU available: False, using: 0 HPUs\n",
      "LOCAL_RANK: 0 - CUDA_VISIBLE_DEVICES: [0]\n"
     ]
    },
    {
     "name": "stdout",
     "output_type": "stream",
     "text": [
      "Epoch 9/160:   5%|▌         | 8/160 [08:49<2:48:54, 66.67s/it, loss=6.2e+03, v_num=1] "
     ]
    }
   ],
   "source": [
    "import warnings\n",
    "warnings.filterwarnings(\"ignore\")\n",
    "spvipes.train(group_indices_list, batch_size=128)"
   ]
  },
  {
   "cell_type": "markdown",
   "metadata": {},
   "source": [
    "spVIPES inherits scvi-tools functionality like model saving or training metrics"
   ]
  },
  {
   "cell_type": "code",
   "execution_count": 15,
   "metadata": {},
   "outputs": [],
   "source": [
    "spvipes.save(\"spvipes_model\")"
   ]
  },
  {
   "cell_type": "code",
   "execution_count": null,
   "metadata": {
    "tags": []
   },
   "outputs": [],
   "source": [
    "plt.plot(spvipes.history['elbo_train']['elbo_train'], label='elbo_train');\n",
    "plt.legend()"
   ]
  },
  {
   "cell_type": "markdown",
   "metadata": {},
   "source": [
    "Likewise we can also load a pretrained model"
   ]
  },
  {
   "cell_type": "code",
   "execution_count": null,
   "metadata": {
    "tags": []
   },
   "outputs": [],
   "source": [
    "spvipes = spVIPES.model.spVIPES.load(\"spvipes_model\", adata=adata)"
   ]
  },
  {
   "cell_type": "code",
   "execution_count": null,
   "metadata": {
    "tags": []
   },
   "outputs": [],
   "source": [
    "spvipes"
   ]
  },
  {
   "cell_type": "markdown",
   "metadata": {},
   "source": [
    "## Latent space retrieval and visualizaton"
   ]
  },
  {
   "cell_type": "markdown",
   "metadata": {
    "tags": []
   },
   "source": [
    "spVIPES outputs three sets of latent variables: \n",
    "\n",
    "- 2 private latents for each of the datasets used as input\n",
    "- 1 shared latent, representing shared variation between the groups"
   ]
  },
  {
   "cell_type": "code",
   "execution_count": 17,
   "metadata": {
    "tags": []
   },
   "outputs": [],
   "source": [
    "latent = spvipes.get_latent_representation(group_indices_list, batch_size=128)"
   ]
  },
  {
   "cell_type": "code",
   "execution_count": 18,
   "metadata": {
    "tags": []
   },
   "outputs": [],
   "source": [
    "latent_private_dataset1 = latent['private'][0]\n",
    "latent_private_dataset2 = latent['private'][1]\n",
    "latent_shared = np.concatenate((latent['shared'][0], latent['shared'][1]), axis=0)"
   ]
  },
  {
   "cell_type": "code",
   "execution_count": null,
   "metadata": {
    "tags": []
   },
   "outputs": [],
   "source": [
    "np.save(\"spvipes_shared_embedding.npy\", latent_shared)\n",
    "np.save(\"spvipes_private_embedding_dataset1.npy\", latent_private_dataset1)\n",
    "np.save(\"spvipes_private_embedding_dataset2.npy\", latent_private_dataset2)"
   ]
  },
  {
   "cell_type": "markdown",
   "metadata": {},
   "source": [
    "We apply standard processing to the obtained embeddings"
   ]
  },
  {
   "cell_type": "code",
   "execution_count": null,
   "metadata": {},
   "outputs": [],
   "source": [
    "adata.obsm['X_spVIPES_shared'] = latent_shared\n",
    "sc.pp.neighbors(adata, use_rep=\"X_spVIPES_shared\", key_added=\"spvipes_shared\")\n",
    "sc.tl.umap(adata, neighbors_key=\"spvipes_shared\")\n",
    "adata.obsm['X_umap_shared'] = adata.obsm['X_umap'].copy()"
   ]
  },
  {
   "cell_type": "code",
   "execution_count": null,
   "metadata": {},
   "outputs": [],
   "source": [
    "dataset1.obsm['X_spVIPES_private'] = latent_private_dataset1\n",
    "sc.pp.neighbors(dataset1, use_rep=\"X_spVIPES_private\", key_added=\"spvipes_private\")\n",
    "sc.tl.umap(dataset1, neighbors_key=\"spvipes_private\")\n",
    "dataset1.obsm['X_umap_private'] = dataset1.obsm['X_umap'].copy()"
   ]
  },
  {
   "cell_type": "code",
   "execution_count": null,
   "metadata": {},
   "outputs": [],
   "source": [
    "dataset2.obsm['X_spVIPES_private'] = latent_private_dataset2\n",
    "sc.pp.neighbors(dataset2, use_rep=\"X_spVIPES_private\", key_added=\"spvipes_private\")\n",
    "sc.tl.umap(dataset2, neighbors_key=\"spvipes_private\")\n",
    "dataset2.obsm['X_umap_private'] = dataset2.obsm['X_umap'].copy()"
   ]
  },
  {
   "cell_type": "code",
   "execution_count": null,
   "metadata": {},
   "outputs": [],
   "source": [
    "palette = sns.color_palette('Accent')"
   ]
  },
  {
   "cell_type": "markdown",
   "metadata": {
    "tags": []
   },
   "source": [
    "Private spaces should learn group-specific structure (i.e., gene programs in our simulated dataset) while learning no structure shared among groups (i.e., cell types). "
   ]
  },
  {
   "cell_type": "code",
   "execution_count": null,
   "metadata": {},
   "outputs": [],
   "source": [
    "fig, axes = plt.subplots(1, 3, figsize=(10,3))\n",
    "fig.tight_layout()\n",
    "sc.pl.embedding(adata, basis='X_umap_shared', color=['Celltypes'], size=3, wspace=1, ax=axes[0], palette=\"Set2_r\", show=False, title=\"Celltypes spVIPE shared\")\n",
    "sc.pl.embedding(dataset1, basis='X_umap_private', color=[\"Gene_programs\"], size=3, wspace=1, ax=axes[1], palette=itemgetter(0,2)(palette), show=False, title=\"Gene programs spVIPE private dataset 1\")\n",
    "sc.pl.embedding(dataset2, basis='X_umap_private', color=[\"Gene_programs\"], size=3, wspace=1, ax=axes[2], palette=itemgetter(5,7)(palette), show=False, title=\"Gene programs spVIPE private dataset 2\")\n",
    "sns.despine()\n",
    "legends = [ax.get_legend_handles_labels() for ax in fig.axes]\n",
    "lines, labels = [sum(item, []) for item in zip(*legends)]\n",
    "for ax in axes:\n",
    "    ax.get_legend().remove()\n",
    "fig.legend(lines, labels, bbox_to_anchor=(1., 0.55), loc=\"center left\", borderaxespad=0, frameon=False)\n",
    "plt.show()"
   ]
  },
  {
   "cell_type": "code",
   "execution_count": null,
   "metadata": {},
   "outputs": [],
   "source": [
    "fig, axes = plt.subplots(1, 2, figsize=(10,3))\n",
    "sc.pl.embedding(dataset1, basis='X_umap_private', color=[\"Celltypes\"], size=10, wspace=1, palette=\"Set2_r\", show=False, ax=axes[0], title=\"Gene programs spVIPE private dataset 1\")\n",
    "sc.pl.embedding(dataset2, basis='X_umap_private', color=[\"Celltypes\"], size=10, wspace=1,  palette=\"Set2_r\", show=False, ax=axes[1], title=\"Gene programs spVIPE private dataset 2\")\n",
    "sns.despine()\n",
    "legends = [ax.get_legend_handles_labels() for ax in fig.axes]\n",
    "lines, labels = [sum(item, []) for item in zip(*legends)]\n",
    "for ax in axes:\n",
    "    ax.get_legend().remove()\n",
    "fig.legend(lines, labels, bbox_to_anchor=(1., 0.55), loc=\"center left\", borderaxespad=0, frameon=False)\n",
    "plt.show()"
   ]
  },
  {
   "cell_type": "markdown",
   "metadata": {},
   "source": [
    "Qualitatively, the shared and private latent spaces learned by spVIPES capture shared and dataset-specific variation, respectively, but the private spaces do not capture shared variation for any of the datasets"
   ]
  }
 ],
 "metadata": {
  "kernelspec": {
   "display_name": "Python [conda env:spVIPES_testing]",
   "language": "python",
   "name": "conda-env-spVIPES_testing-py"
  },
  "language_info": {
   "codemirror_mode": {
    "name": "ipython",
    "version": 3
   },
   "file_extension": ".py",
   "mimetype": "text/x-python",
   "name": "python",
   "nbconvert_exporter": "python",
   "pygments_lexer": "ipython3",
   "version": "3.9.18"
  },
  "vscode": {
   "interpreter": {
    "hash": "ae6466e8d4f517858789b5c9e8f0ed238fb8964458a36305fca7bddc149e9c64"
   }
  }
 },
 "nbformat": 4,
 "nbformat_minor": 4
}
